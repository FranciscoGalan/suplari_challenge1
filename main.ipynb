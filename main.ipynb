{
 "cells": [
  {
   "cell_type": "markdown",
   "id": "ecdf1212",
   "metadata": {},
   "source": [
    "# Suplari Data Exercise\n",
    "\n",
    "This notebook answers the following four questions: \n",
    "\n",
    "1. What are the top 10 suppliers for 2017 and how much is spent on each supplier?\n",
    "\n",
    "2. Which business unit was the top spender so far in 2017?\n",
    "\n",
    "3. Compare the top 10 suppliers in 2017 to the top suppliers in 2016\n",
    "\n",
    "4. How many transactions were recorded for 2015, 2016, and 2017 respectively?\n",
    "\n",
    "To do so, I used the datasets located in the `\\Data` folder."
   ]
  },
  {
   "cell_type": "markdown",
   "id": "24af2fab",
   "metadata": {},
   "source": [
    "## 1. What are the top 10 suppliers for 2017 and how much is spent on each supplier?"
   ]
  },
  {
   "cell_type": "markdown",
   "id": "4bce272a",
   "metadata": {},
   "source": [
    "## 2. Which business unit was the top spender so far in 2017?"
   ]
  },
  {
   "cell_type": "markdown",
   "id": "3063ea9a",
   "metadata": {},
   "source": [
    "## 3. Compare the top 10 suppliers in 2017 to the top suppliers in 2016"
   ]
  },
  {
   "cell_type": "markdown",
   "id": "dc934af7",
   "metadata": {},
   "source": [
    "## 4. How many transactions were recorded for 2015, 2016, and 2017 respectively?"
   ]
  }
 ],
 "metadata": {
  "kernelspec": {
   "display_name": "Python 3",
   "language": "python",
   "name": "python3"
  },
  "language_info": {
   "codemirror_mode": {
    "name": "ipython",
    "version": 3
   },
   "file_extension": ".py",
   "mimetype": "text/x-python",
   "name": "python",
   "nbconvert_exporter": "python",
   "pygments_lexer": "ipython3",
   "version": "3.8.8"
  }
 },
 "nbformat": 4,
 "nbformat_minor": 5
}
